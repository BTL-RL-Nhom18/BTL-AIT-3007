{
  "cells": [
    {
      "cell_type": "code",
      "execution_count": 1,
      "metadata": {
        "colab": {
          "base_uri": "https://localhost:8080/"
        },
        "id": "gbIZm7eCHL2U",
        "outputId": "6bc1849e-af5c-4da4-8e61-09653998c319"
      },
      "outputs": [
        {
          "name": "stdout",
          "output_type": "stream",
          "text": [
            "Cloning into 'BTL-AIT-3007'...\n",
            "remote: Enumerating objects: 892, done.\u001b[K\n",
            "remote: Counting objects: 100% (173/173), done.\u001b[K\n",
            "remote: Compressing objects: 100% (119/119), done.\u001b[K\n",
            "remote: Total 892 (delta 88), reused 107 (delta 51), pack-reused 719 (from 1)\u001b[K\n",
            "Receiving objects: 100% (892/892), 30.79 MiB | 16.72 MiB/s, done.\n",
            "Resolving deltas: 100% (558/558), done.\n",
            "/content/BTL-AIT-3007\n"
          ]
        }
      ],
      "source": [
        "%cd /kaggle/working\n",
        "%rm -rf BTL-AIT-3007\n",
        "!git clone -b manh https://github.com/BTL-RL-Nhom19/BTL-AIT-3007.git\n",
        "%cd BTL-AIT-3007"
      ]
    },
    {
      "cell_type": "code",
      "execution_count": 2,
      "metadata": {
        "colab": {
          "base_uri": "https://localhost:8080/"
        },
        "id": "H12clPnSHVdi",
        "outputId": "7615545e-9251-47d4-c399-0e246ced44c7"
      },
      "outputs": [
        {
          "name": "stdout",
          "output_type": "stream",
          "text": [
            "  Installing build dependencies ... \u001b[?25l\u001b[?25hdone\n",
            "  Getting requirements to build wheel ... \u001b[?25l\u001b[?25hdone\n",
            "  Preparing metadata (pyproject.toml) ... \u001b[?25l\u001b[?25hdone\n",
            "\u001b[2K   \u001b[90m━━━━━━━━━━━━━━━━━━━━━━━━━━━━━━━━━━━━━━━━\u001b[0m \u001b[32m50.2/50.2 kB\u001b[0m \u001b[31m3.5 MB/s\u001b[0m eta \u001b[36m0:00:00\u001b[0m\n",
            "\u001b[2K   \u001b[90m━━━━━━━━━━━━━━━━━━━━━━━━━━━━━━━━━━━━━━━━\u001b[0m \u001b[32m958.1/958.1 kB\u001b[0m \u001b[31m37.9 MB/s\u001b[0m eta \u001b[36m0:00:00\u001b[0m\n",
            "\u001b[2K   \u001b[90m━━━━━━━━━━━━━━━━━━━━━━━━━━━━━━━━━━━━━━━━\u001b[0m \u001b[32m847.8/847.8 kB\u001b[0m \u001b[31m31.2 MB/s\u001b[0m eta \u001b[36m0:00:00\u001b[0m\n",
            "\u001b[2K   \u001b[90m━━━━━━━━━━━━━━━━━━━━━━━━━━━━━━━━━━━━━━━━\u001b[0m \u001b[32m522.8/522.8 kB\u001b[0m \u001b[31m28.4 MB/s\u001b[0m eta \u001b[36m0:00:00\u001b[0m\n",
            "\u001b[?25h  Building wheel for magent2 (pyproject.toml) ... \u001b[?25l\u001b[?25hdone\n"
          ]
        }
      ],
      "source": [
        "%pip install -r requirements.txt -q\n"
      ]
    },
    {
      "cell_type": "code",
      "execution_count": 3,
      "metadata": {
        "colab": {
          "base_uri": "https://localhost:8080/"
        },
        "id": "3hvptxM-HWJ7",
        "outputId": "b82776d7-56fb-4c29-ba44-27a4d76b74c3"
      },
      "outputs": [
        {
          "name": "stdout",
          "output_type": "stream",
          "text": [
            "/content/BTL-AIT-3007/src/qmix\n",
            "cuda\n",
            "====================\n",
            "Eval with random policy\n",
            "/usr/local/lib/python3.10/dist-packages/pettingzoo/utils/conversions.py:289: UserWarning: The `action_spaces` dictionary is deprecated. Use the `action_space` function instead.\n",
            "  warnings.warn(\n",
            "100% 30/30 [27:40<00:00, 55.37s/it]\n",
            "{'winrate_red': 0.0, 'winrate_blue': 1.0, 'average_rewards_red': -12.002029231435204, 'average_rewards_blue': -30.468396309503344}\n",
            "====================\n",
            "Eval with trained policy\n",
            "/usr/local/lib/python3.10/dist-packages/pettingzoo/utils/conversions.py:289: UserWarning: The `action_spaces` dictionary is deprecated. Use the `action_space` function instead.\n",
            "  warnings.warn(\n",
            "100% 30/30 [11:03<00:00, 22.12s/it]\n",
            "{'winrate_red': 1.0, 'winrate_blue': 0.0, 'average_rewards_red': 0.22101425442905948, 'average_rewards_blue': -4.915693700081312}\n",
            "====================\n",
            "Eval with final trained policy\n",
            "100% 30/30 [28:04<00:00, 56.16s/it]\n",
            "{'winrate_red': 1.0, 'winrate_blue': 0.0, 'average_rewards_red': -2.236148242968989, 'average_rewards_blue': -22.90743507432824}\n",
            "====================\n"
          ]
        }
      ],
      "source": [
        "%cd src/qmix\n",
        "!python eval_qmix_new.py"
      ]
    },
    {
      "cell_type": "code",
      "execution_count": null,
      "metadata": {
        "id": "toY3o3MFHW2X"
      },
      "outputs": [],
      "source": []
    }
  ],
  "metadata": {
    "accelerator": "GPU",
    "colab": {
      "gpuType": "T4",
      "provenance": []
    },
    "kernelspec": {
      "display_name": "Python 3",
      "name": "python3"
    },
    "language_info": {
      "name": "python"
    }
  },
  "nbformat": 4,
  "nbformat_minor": 0
}
