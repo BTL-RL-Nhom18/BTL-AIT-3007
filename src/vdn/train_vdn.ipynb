{
 "cells": [
  {
   "cell_type": "code",
   "execution_count": null,
   "id": "b1484941",
   "metadata": {
    "_cell_guid": "b1076dfc-b9ad-4769-8c92-a6c4dae69d19",
    "_uuid": "8f2839f25d086af736a60e9eeb907d3b93b6e0e5",
    "execution": {
     "iopub.execute_input": "2024-12-18T19:48:02.989511Z",
     "iopub.status.busy": "2024-12-18T19:48:02.989167Z",
     "iopub.status.idle": "2024-12-18T19:48:36.382596Z",
     "shell.execute_reply": "2024-12-18T19:48:36.381433Z"
    },
    "papermill": {
     "duration": 33.401969,
     "end_time": "2024-12-18T19:48:36.385045",
     "exception": false,
     "start_time": "2024-12-18T19:48:02.983076",
     "status": "completed"
    },
    "tags": []
   },
   "outputs": [],
   "source": [
    "!pip install -q git+https://github.com/Farama-Foundation/MAgent2"
   ]
  },
  {
   "cell_type": "markdown",
   "id": "e7a53a64",
   "metadata": {
    "papermill": {
     "duration": 0.00487,
     "end_time": "2024-12-18T19:48:39.953653",
     "exception": false,
     "start_time": "2024-12-18T19:48:39.948783",
     "status": "completed"
    },
    "tags": []
   },
   "source": [
    "# Init"
   ]
  },
  {
   "cell_type": "code",
   "execution_count": 1,
   "id": "6e28bad7",
   "metadata": {
    "execution": {
     "iopub.execute_input": "2024-12-18T19:48:39.962556Z",
     "iopub.status.busy": "2024-12-18T19:48:39.962163Z",
     "iopub.status.idle": "2024-12-18T19:48:40.028305Z",
     "shell.execute_reply": "2024-12-18T19:48:40.027698Z"
    },
    "papermill": {
     "duration": 0.072499,
     "end_time": "2024-12-18T19:48:40.029968",
     "exception": false,
     "start_time": "2024-12-18T19:48:39.957469",
     "status": "completed"
    },
    "tags": []
   },
   "outputs": [],
   "source": [
    "# Libraries\n",
    "import numpy as np\n",
    "from magent2.environments import battle_v4\n",
    "\n",
    "# Modules\n",
    "from model import VdnQNet\n",
    "from team import TeamManager\n",
    "from utils import save_data, seed, device, VdnHyperparameters\n",
    "from train import train, run_episode, run_model_train_test"
   ]
  },
  {
   "cell_type": "markdown",
   "id": "5554c4e8",
   "metadata": {
    "papermill": {
     "duration": 0.003699,
     "end_time": "2024-12-18T19:48:40.241628",
     "exception": false,
     "start_time": "2024-12-18T19:48:40.237929",
     "status": "completed"
    },
    "tags": []
   },
   "source": [
    "# Training"
   ]
  },
  {
   "cell_type": "code",
   "execution_count": null,
   "id": "7373c8e8",
   "metadata": {
    "execution": {
     "iopub.execute_input": "2024-12-18T19:48:40.250530Z",
     "iopub.status.busy": "2024-12-18T19:48:40.250075Z",
     "iopub.status.idle": "2024-12-18T23:59:26.128627Z",
     "shell.execute_reply": "2024-12-18T23:59:26.127897Z"
    },
    "papermill": {
     "duration": 15045.88488,
     "end_time": "2024-12-18T23:59:26.130487",
     "exception": false,
     "start_time": "2024-12-18T19:48:40.245607",
     "status": "completed"
    },
    "tags": []
   },
   "outputs": [],
   "source": [
    "# Training\n",
    "\n",
    "save_name_team1 = 'vdn_blue'\n",
    "save_name_team2 = 'vdn_red'\n",
    "\n",
    "# Hyperparameters\n",
    "hp = VdnHyperparameters(\n",
    "    lr=0.002,\n",
    "    gamma=0.99,\n",
    "    batch_size=512,\n",
    "    buffer_limit=9000,\n",
    "    max_episodes=200,\n",
    "    max_epsilon=0.9,\n",
    "    min_epsilon=0.1,\n",
    "    episode_min_epsilon=100,\n",
    "    test_episodes=1,\n",
    "    warm_up_steps=3000,\n",
    "    update_iter=20,\n",
    "    chunk_size=1,\n",
    "    update_target_interval=20,\n",
    "    recurrent=True\n",
    ")\n",
    "print(hp)\n",
    "\n",
    "# Create environment\n",
    "env = battle_v4.parallel_env(map_size=45)\n",
    "test_env = battle_v4.parallel_env(map_size=45)\n",
    "\n",
    "env.reset(seed=seed)\n",
    "test_env.reset(seed=seed)\n",
    "team_manager = TeamManager(env.agents)\n",
    "\n",
    "# Create models for two teams\n",
    "q_team1 = VdnQNet(team_manager.get_my_agents(), env.observation_spaces, env.action_spaces).to(device)\n",
    "q_target_team1 = VdnQNet(team_manager.get_my_agents(), env.observation_spaces, env.action_spaces).to(device)\n",
    "\n",
    "q_team2 = VdnQNet(team_manager.get_other_agents(), env.observation_spaces, env.action_spaces).to(device)\n",
    "q_target_team2 = VdnQNet(team_manager.get_other_agents(), env.observation_spaces, env.action_spaces).to(device)\n",
    "\n",
    "# Run training for both teams\n",
    "train_scores_team1, train_scores_team2, test_scores_team1, test_scores_team2, losses_team1, losses_team2 = run_model_train_test(\n",
    "    env, \n",
    "    test_env, \n",
    "    q_team1, q_team2, \n",
    "    q_target_team1, q_target_team2, \n",
    "    save_name_team1, save_name_team2, \n",
    "    team_manager, \n",
    "    hp, \n",
    "    train, \n",
    "    run_episode\n",
    ")\n",
    "\n",
    "# Save data for Team 1\n",
    "save_data(np.array(train_scores_team1), f'{save_name_team1}-train_scores')\n",
    "save_data(np.array(test_scores_team1), f'{save_name_team1}-test_scores')\n",
    "save_data(np.array(losses_team1), f'{save_name_team1}-losses')\n",
    "\n",
    "# Save data for Team 2\n",
    "save_data(np.array(train_scores_team2), f'{save_name_team2}-train_scores')\n",
    "save_data(np.array(test_scores_team2), f'{save_name_team2}-test_scores')\n",
    "save_data(np.array(losses_team2), f'{save_name_team2}-losses')"
   ]
  },
  {
   "cell_type": "code",
   "execution_count": null,
   "id": "5f4e34e9",
   "metadata": {
    "papermill": {
     "duration": 0.039732,
     "end_time": "2024-12-18T23:59:26.210994",
     "exception": false,
     "start_time": "2024-12-18T23:59:26.171262",
     "status": "completed"
    },
    "tags": []
   },
   "outputs": [],
   "source": []
  }
 ],
 "metadata": {
  "kaggle": {
   "accelerator": "gpu",
   "dataSources": [],
   "dockerImageVersionId": 30805,
   "isGpuEnabled": true,
   "isInternetEnabled": true,
   "language": "python",
   "sourceType": "notebook"
  },
  "kernelspec": {
   "display_name": "Python 3",
   "language": "python",
   "name": "python3"
  },
  "language_info": {
   "codemirror_mode": {
    "name": "ipython",
    "version": 3
   },
   "file_extension": ".py",
   "mimetype": "text/x-python",
   "name": "python",
   "nbconvert_exporter": "python",
   "pygments_lexer": "ipython3",
   "version": "3.10.15"
  },
  "papermill": {
   "default_parameters": {},
   "duration": 15088.062602,
   "end_time": "2024-12-18T23:59:28.644339",
   "environment_variables": {},
   "exception": null,
   "input_path": "__notebook__.ipynb",
   "output_path": "__notebook__.ipynb",
   "parameters": {},
   "start_time": "2024-12-18T19:48:00.581737",
   "version": "2.6.0"
  }
 },
 "nbformat": 4,
 "nbformat_minor": 5
}
