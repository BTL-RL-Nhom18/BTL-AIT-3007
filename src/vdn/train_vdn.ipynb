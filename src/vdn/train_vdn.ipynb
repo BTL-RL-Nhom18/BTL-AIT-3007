{
 "cells": [
  {
   "cell_type": "code",
   "execution_count": 1,
   "id": "b1484941",
   "metadata": {
    "_cell_guid": "b1076dfc-b9ad-4769-8c92-a6c4dae69d19",
    "_uuid": "8f2839f25d086af736a60e9eeb907d3b93b6e0e5",
    "execution": {
     "iopub.execute_input": "2024-12-18T19:48:02.989511Z",
     "iopub.status.busy": "2024-12-18T19:48:02.989167Z",
     "iopub.status.idle": "2024-12-18T19:48:36.382596Z",
     "shell.execute_reply": "2024-12-18T19:48:36.381433Z"
    },
    "papermill": {
     "duration": 33.401969,
     "end_time": "2024-12-18T19:48:36.385045",
     "exception": false,
     "start_time": "2024-12-18T19:48:02.983076",
     "status": "completed"
    },
    "tags": []
   },
   "outputs": [
    {
     "name": "stdout",
     "output_type": "stream",
     "text": [
      "^C\n"
     ]
    }
   ],
   "source": [
    "!pip install -q git+https://github.com/Farama-Foundation/MAgent2"
   ]
  },
  {
   "cell_type": "markdown",
   "id": "e7a53a64",
   "metadata": {
    "papermill": {
     "duration": 0.00487,
     "end_time": "2024-12-18T19:48:39.953653",
     "exception": false,
     "start_time": "2024-12-18T19:48:39.948783",
     "status": "completed"
    },
    "tags": []
   },
   "source": [
    "# Init"
   ]
  },
  {
   "cell_type": "code",
   "execution_count": 1,
   "id": "6e28bad7",
   "metadata": {
    "execution": {
     "iopub.execute_input": "2024-12-18T19:48:39.962556Z",
     "iopub.status.busy": "2024-12-18T19:48:39.962163Z",
     "iopub.status.idle": "2024-12-18T19:48:40.028305Z",
     "shell.execute_reply": "2024-12-18T19:48:40.027698Z"
    },
    "papermill": {
     "duration": 0.072499,
     "end_time": "2024-12-18T19:48:40.029968",
     "exception": false,
     "start_time": "2024-12-18T19:48:39.957469",
     "status": "completed"
    },
    "tags": []
   },
   "outputs": [],
   "source": [
    "# Libraries\n",
    "import numpy as np\n",
    "import torch\n",
    "from magent2.environments import battle_v4\n",
    "from dataclasses import dataclass\n",
    "\n",
    "# Modules\n",
    "from model import VdnQNet\n",
    "from utils import TeamManager\n",
    "from train import save_data, train, run_episode, run_model_train_test\n",
    "from eval import evaluate_model\n",
    "\n",
    "seed = 25\n",
    "device = 'cuda' if torch.cuda.is_available() else 'cpu'\n",
    "\n",
    "@dataclass\n",
    "class VdnHyperparameters:\n",
    "    lr: float = 0.001\n",
    "    gamma: float = 0.99\n",
    "    batch_size: int = 2048\n",
    "    update_iter: int = 20\n",
    "    buffer_limit: int = 9000\n",
    "    update_target_interval: int = 20\n",
    "    max_episodes: int = 500\n",
    "    max_epsilon: float = 0.9\n",
    "    min_epsilon: float = 0.1\n",
    "    episode_min_epsilon: int = 200\n",
    "    test_episodes: int = 10\n",
    "    warm_up_steps: int = 3000\n",
    "    chunk_size: int = 1\n",
    "    recurrent: bool = False"
   ]
  },
  {
   "cell_type": "markdown",
   "id": "5554c4e8",
   "metadata": {
    "papermill": {
     "duration": 0.003699,
     "end_time": "2024-12-18T19:48:40.241628",
     "exception": false,
     "start_time": "2024-12-18T19:48:40.237929",
     "status": "completed"
    },
    "tags": []
   },
   "source": [
    "# Training"
   ]
  },
  {
   "cell_type": "code",
   "execution_count": 2,
   "id": "7373c8e8",
   "metadata": {
    "execution": {
     "iopub.execute_input": "2024-12-18T19:48:40.250530Z",
     "iopub.status.busy": "2024-12-18T19:48:40.250075Z",
     "iopub.status.idle": "2024-12-18T23:59:26.128627Z",
     "shell.execute_reply": "2024-12-18T23:59:26.127897Z"
    },
    "papermill": {
     "duration": 15045.88488,
     "end_time": "2024-12-18T23:59:26.130487",
     "exception": false,
     "start_time": "2024-12-18T19:48:40.245607",
     "status": "completed"
    },
    "tags": []
   },
   "outputs": [
    {
     "name": "stdout",
     "output_type": "stream",
     "text": [
      "VdnHyperparameters(lr=0.0005, gamma=0.99, batch_size=512, update_iter=20, buffer_limit=9000, update_target_interval=20, max_episodes=400, max_epsilon=0.9, min_epsilon=0.1, episode_min_epsilon=200, test_episodes=1, warm_up_steps=3000, chunk_size=1, recurrent=True)\n",
      "My team:  blue\n",
      "Episodes 1 / 400\n"
     ]
    }
   ],
   "source": [
    "# Training\n",
    "save_name = 'vdn_blue'\n",
    "loaded_model = None\n",
    "\n",
    "# Hyperparameters\n",
    "hp = VdnHyperparameters(\n",
    "    lr=0.0005,\n",
    "    gamma=0.99,\n",
    "    batch_size=512,\n",
    "    buffer_limit=9000,\n",
    "    max_episodes=400,\n",
    "    max_epsilon=0.9,\n",
    "    min_epsilon=0.1,\n",
    "    episode_min_epsilon=200,\n",
    "    test_episodes=1,\n",
    "    warm_up_steps=3000,\n",
    "    update_iter=20,\n",
    "    chunk_size=1,\n",
    "    update_target_interval=20,\n",
    "    recurrent=True\n",
    ")\n",
    "print(hp)\n",
    "\n",
    "# Create env\n",
    "env = battle_v4.parallel_env(map_size=45)\n",
    "test_env = battle_v4.parallel_env(map_size=45)\n",
    "\n",
    "env.reset(seed=seed)\n",
    "test_env.reset(seed=seed)\n",
    "team_manager = TeamManager(env.agents)\n",
    "\n",
    "# Create model\n",
    "q = VdnQNet(team_manager.get_my_agents(), env.observation_spaces, env.action_spaces).to(device)\n",
    "q_target = VdnQNet(team_manager.get_my_agents(), env.observation_spaces, env.action_spaces).to(device)\n",
    "\n",
    "# Run train\n",
    "train_scores, test_scores, losses = run_model_train_test(\n",
    "    env, test_env, q, q_target,\n",
    "    save_name, team_manager, hp, train, run_episode\n",
    ")\n",
    "\n",
    "# Save data\n",
    "save_data(np.array(train_scores), f'{save_name}-train_scores')\n",
    "save_data(np.array(test_scores), f'{save_name}-test_scores')\n",
    "save_data(np.array(losses), f'{save_name}-losses')"
   ]
  },
  {
   "cell_type": "code",
   "execution_count": null,
   "id": "5f4e34e9",
   "metadata": {
    "papermill": {
     "duration": 0.039732,
     "end_time": "2024-12-18T23:59:26.210994",
     "exception": false,
     "start_time": "2024-12-18T23:59:26.171262",
     "status": "completed"
    },
    "tags": []
   },
   "outputs": [],
   "source": []
  }
 ],
 "metadata": {
  "kaggle": {
   "accelerator": "gpu",
   "dataSources": [],
   "dockerImageVersionId": 30805,
   "isGpuEnabled": true,
   "isInternetEnabled": true,
   "language": "python",
   "sourceType": "notebook"
  },
  "kernelspec": {
   "display_name": "Python 3",
   "language": "python",
   "name": "python3"
  },
  "language_info": {
   "codemirror_mode": {
    "name": "ipython",
    "version": 3
   },
   "file_extension": ".py",
   "mimetype": "text/x-python",
   "name": "python",
   "nbconvert_exporter": "python",
   "pygments_lexer": "ipython3",
   "version": "3.10.15"
  },
  "papermill": {
   "default_parameters": {},
   "duration": 15088.062602,
   "end_time": "2024-12-18T23:59:28.644339",
   "environment_variables": {},
   "exception": null,
   "input_path": "__notebook__.ipynb",
   "output_path": "__notebook__.ipynb",
   "parameters": {},
   "start_time": "2024-12-18T19:48:00.581737",
   "version": "2.6.0"
  }
 },
 "nbformat": 4,
 "nbformat_minor": 5
}
